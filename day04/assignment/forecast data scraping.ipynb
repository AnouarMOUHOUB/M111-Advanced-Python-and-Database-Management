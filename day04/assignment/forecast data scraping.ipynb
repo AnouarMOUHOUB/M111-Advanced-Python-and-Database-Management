{
 "cells": [
  {
   "cell_type": "markdown",
   "id": "3bf3292a",
   "metadata": {},
   "source": [
    "### Exercice:\n",
    "\n",
    "Scraping weather forecase from the The Weather Channel website `weather.com` using `requests` and `BeautifulSoup` libraries.\n",
    "\n",
    "1. Implement a scraping script for getting 10 days weather forecasts of Benguerir city and Tanger City.\n",
    "2. Store the data sets into Pandas DataFrame.\n",
    "3. Use matplotlib library to plot the raining days of the two cities in the same figure.  \n"
   ]
  },
  {
   "cell_type": "code",
   "execution_count": 56,
   "id": "e2008bdb",
   "metadata": {},
   "outputs": [],
   "source": [
    "import requests\n",
    "Bng = requests.get(\"https://weather.com/weather/tenday/l/f37580e42d804f6d54467e56dd9f296e15fe9a25db53ddee63601416ecc06111\")\n",
    "Tng = requests.get(\"https://weather.com/weather/tenday/l/701d5f2dd2a2b8cabcc505d69649a291257de6c1369a982396ea546ccb99198c\")\n",
    "#sending requests for bengrir and tangier pages"
   ]
  },
  {
   "cell_type": "code",
   "execution_count": 57,
   "id": "f60b0e0f",
   "metadata": {},
   "outputs": [],
   "source": [
    "from bs4 import BeautifulSoup\n",
    "soup_B = BeautifulSoup(Bng.content, 'lxml')\n",
    "soup_T = BeautifulSoup(Tng.content, 'lxml')\n",
    "#using lxml as a parser"
   ]
  },
  {
   "cell_type": "code",
   "execution_count": 58,
   "id": "4ec517c5",
   "metadata": {},
   "outputs": [
    {
     "name": "stdout",
     "output_type": "stream",
     "text": [
      "[['Sat 17', '65°', '46°', 'Partly Cloudy', 'E 8 mph', '15%'], ['Sun 18', '71°', '46°', 'Partly Cloudy', 'ESE 7 mph', '15%'], ['Mon 19', '73°', '45°', 'Mostly Sunny', 'E 7 mph', '15%'], ['Tue 20', '73°', '45°', 'Partly Cloudy', 'SSW 8 mph', '8%'], ['Wed 21', '71°', '44°', 'Mostly Sunny', 'ENE 8 mph', '8%'], ['Thu 22', '70°', '43°', 'Sunny', 'ENE 8 mph', '7%'], ['Fri 23', '71°', '43°', 'Sunny', 'SSW 8 mph', '7%'], ['Sat 24', '70°', '44°', 'Mostly Sunny', 'S 8 mph', '7%'], ['Sun 25', '69°', '46°', 'Partly Cloudy', 'S 9 mph', '7%'], ['Mon 26', '67°', '47°', 'Partly Cloudy', 'SSW 13 mph', '10%']]\n"
     ]
    }
   ],
   "source": [
    "array_b=[] #array bengrir will contain bg data\n",
    "for i in range(1,11) :\n",
    "         array_b.append([soup_B.find_all(attrs={\"data-testid\" : \"daypartName\"})[i].get_text(),\n",
    "          soup_B.find_all(attrs={\"class\" : \"DetailsSummary--highTempValue--3PjlX\",\"data-testid\" : \"TemperatureValue\"})[i].get_text(),\n",
    "          soup_B.find_all(attrs={\"class\" : \"DetailsSummary--lowTempValue--2tesQ\",\"data-testid\" : \"TemperatureValue\"})[i].get_text(),\n",
    "         soup_B.find_all(attrs={\"class\" : \"DetailsSummary--extendedData--307Ax\"})[2*i].get_text(),\n",
    "         soup_B.find_all(attrs={\"class\" : \"Wind--windWrapper--3Ly7c undefined\",\"data-testid\" : \"Wind\"})[i].get_text(),\n",
    "         soup_B.find_all(attrs={\"class\" : \"DailyContent--value--1Jers\",\"data-testid\" : \"PercentageValue\"})[i].get_text()])\n",
    "print(array_b)\n",
    "#used loop from 1 to 10 to take 10 days and used combination classes names and data-testids names to catch the data we want"
   ]
  },
  {
   "cell_type": "code",
   "execution_count": 47,
   "id": "23a81fc7",
   "metadata": {},
   "outputs": [
    {
     "name": "stdout",
     "output_type": "stream",
     "text": [
      "[['Sat 17', '65°', '53°', 'Showers', 'SW 6 mph', '77%'], ['Sun 18', '68°', '58°', 'Partly Cloudy', 'E 14 mph', '14%'], ['Mon 19', '69°', '57°', 'Partly Cloudy', 'E 11 mph', '14%'], ['Tue 20', '70°', '59°', 'PM Showers', 'SE 8 mph', '12%'], ['Wed 21', '67°', '55°', 'AM Showers', 'SW 6 mph', '12%'], ['Thu 22', '66°', '54°', 'AM Fog/PM Sun', 'NNE 5 mph', '12%'], ['Fri 23', '66°', '54°', 'Sunny', 'S 5 mph', '40%'], ['Sat 24', '66°', '55°', 'Partly Cloudy', 'S 6 mph', '77%'], ['Sun 25', '67°', '56°', 'Partly Cloudy', 'SE 9 mph', '47%'], ['Mon 26', '65°', '57°', 'Showers', 'SE 13 mph', '15%']]\n"
     ]
    }
   ],
   "source": [
    "array_t=[] #tangier\n",
    "for i in range(1,11) :\n",
    "         array_t.append([soup_T.find_all(attrs={\"data-testid\" : \"daypartName\"})[i].get_text(),\n",
    "         soup_T.find_all(attrs={\"class\" : \"DetailsSummary--highTempValue--3PjlX\",\"data-testid\" : \"TemperatureValue\"})[i].get_text(),\n",
    "        soup_T.find_all(attrs={\"class\" : \"DetailsSummary--lowTempValue--2tesQ\",\"data-testid\" : \"TemperatureValue\"})[i].get_text(),\n",
    "        soup_T.find_all(attrs={\"class\" : \"DetailsSummary--extendedData--307Ax\"})[2*i].get_text(),\n",
    "         soup_T.find_all(attrs={\"class\" : \"Wind--windWrapper--3Ly7c undefined\",\"data-testid\" : \"Wind\"})[i].get_text(),\n",
    "         soup_T.find_all(attrs={\"class\" : \"DailyContent--value--1Jers\",\"data-testid\" : \"PercentageValue\"})[i].get_text()])\n",
    "\n",
    "print(array_t)"
   ]
  },
  {
   "cell_type": "code",
   "execution_count": 64,
   "id": "4bd550c5",
   "metadata": {},
   "outputs": [
    {
     "data": {
      "text/html": [
       "<div>\n",
       "<style scoped>\n",
       "    .dataframe tbody tr th:only-of-type {\n",
       "        vertical-align: middle;\n",
       "    }\n",
       "\n",
       "    .dataframe tbody tr th {\n",
       "        vertical-align: top;\n",
       "    }\n",
       "\n",
       "    .dataframe thead th {\n",
       "        text-align: right;\n",
       "    }\n",
       "</style>\n",
       "<table border=\"1\" class=\"dataframe\">\n",
       "  <thead>\n",
       "    <tr style=\"text-align: right;\">\n",
       "      <th></th>\n",
       "      <th>Date</th>\n",
       "      <th>High</th>\n",
       "      <th>Low</th>\n",
       "      <th>Overall</th>\n",
       "      <th>Wind</th>\n",
       "      <th>Rain</th>\n",
       "    </tr>\n",
       "  </thead>\n",
       "  <tbody>\n",
       "    <tr>\n",
       "      <th>0</th>\n",
       "      <td>Sat 17</td>\n",
       "      <td>65°</td>\n",
       "      <td>46°</td>\n",
       "      <td>Partly Cloudy</td>\n",
       "      <td>E 8 mph</td>\n",
       "      <td>15%</td>\n",
       "    </tr>\n",
       "    <tr>\n",
       "      <th>1</th>\n",
       "      <td>Sun 18</td>\n",
       "      <td>71°</td>\n",
       "      <td>46°</td>\n",
       "      <td>Partly Cloudy</td>\n",
       "      <td>ESE 7 mph</td>\n",
       "      <td>15%</td>\n",
       "    </tr>\n",
       "    <tr>\n",
       "      <th>2</th>\n",
       "      <td>Mon 19</td>\n",
       "      <td>73°</td>\n",
       "      <td>45°</td>\n",
       "      <td>Mostly Sunny</td>\n",
       "      <td>E 7 mph</td>\n",
       "      <td>15%</td>\n",
       "    </tr>\n",
       "    <tr>\n",
       "      <th>3</th>\n",
       "      <td>Tue 20</td>\n",
       "      <td>73°</td>\n",
       "      <td>45°</td>\n",
       "      <td>Partly Cloudy</td>\n",
       "      <td>SSW 8 mph</td>\n",
       "      <td>8%</td>\n",
       "    </tr>\n",
       "    <tr>\n",
       "      <th>4</th>\n",
       "      <td>Wed 21</td>\n",
       "      <td>71°</td>\n",
       "      <td>44°</td>\n",
       "      <td>Mostly Sunny</td>\n",
       "      <td>ENE 8 mph</td>\n",
       "      <td>8%</td>\n",
       "    </tr>\n",
       "    <tr>\n",
       "      <th>5</th>\n",
       "      <td>Thu 22</td>\n",
       "      <td>70°</td>\n",
       "      <td>43°</td>\n",
       "      <td>Sunny</td>\n",
       "      <td>ENE 8 mph</td>\n",
       "      <td>7%</td>\n",
       "    </tr>\n",
       "    <tr>\n",
       "      <th>6</th>\n",
       "      <td>Fri 23</td>\n",
       "      <td>71°</td>\n",
       "      <td>43°</td>\n",
       "      <td>Sunny</td>\n",
       "      <td>SSW 8 mph</td>\n",
       "      <td>7%</td>\n",
       "    </tr>\n",
       "    <tr>\n",
       "      <th>7</th>\n",
       "      <td>Sat 24</td>\n",
       "      <td>70°</td>\n",
       "      <td>44°</td>\n",
       "      <td>Mostly Sunny</td>\n",
       "      <td>S 8 mph</td>\n",
       "      <td>7%</td>\n",
       "    </tr>\n",
       "    <tr>\n",
       "      <th>8</th>\n",
       "      <td>Sun 25</td>\n",
       "      <td>69°</td>\n",
       "      <td>46°</td>\n",
       "      <td>Partly Cloudy</td>\n",
       "      <td>S 9 mph</td>\n",
       "      <td>7%</td>\n",
       "    </tr>\n",
       "    <tr>\n",
       "      <th>9</th>\n",
       "      <td>Mon 26</td>\n",
       "      <td>67°</td>\n",
       "      <td>47°</td>\n",
       "      <td>Partly Cloudy</td>\n",
       "      <td>SSW 13 mph</td>\n",
       "      <td>10%</td>\n",
       "    </tr>\n",
       "  </tbody>\n",
       "</table>\n",
       "</div>"
      ],
      "text/plain": [
       "     Date High  Low        Overall        Wind Rain\n",
       "0  Sat 17  65°  46°  Partly Cloudy     E 8 mph  15%\n",
       "1  Sun 18  71°  46°  Partly Cloudy   ESE 7 mph  15%\n",
       "2  Mon 19  73°  45°   Mostly Sunny     E 7 mph  15%\n",
       "3  Tue 20  73°  45°  Partly Cloudy   SSW 8 mph   8%\n",
       "4  Wed 21  71°  44°   Mostly Sunny   ENE 8 mph   8%\n",
       "5  Thu 22  70°  43°          Sunny   ENE 8 mph   7%\n",
       "6  Fri 23  71°  43°          Sunny   SSW 8 mph   7%\n",
       "7  Sat 24  70°  44°   Mostly Sunny     S 8 mph   7%\n",
       "8  Sun 25  69°  46°  Partly Cloudy     S 9 mph   7%\n",
       "9  Mon 26  67°  47°  Partly Cloudy  SSW 13 mph  10%"
      ]
     },
     "execution_count": 64,
     "metadata": {},
     "output_type": "execute_result"
    }
   ],
   "source": [
    "import pandas as pd\n",
    "data_B = pd.DataFrame(array_b, columns=[\"Date\",\"High\",\"Low\",\"Overall\",\"Wind\",\"Rain\"])\n",
    "data_B #transforming to pd dataframe"
   ]
  },
  {
   "cell_type": "code",
   "execution_count": 65,
   "id": "82c41b75",
   "metadata": {},
   "outputs": [
    {
     "data": {
      "text/html": [
       "<div>\n",
       "<style scoped>\n",
       "    .dataframe tbody tr th:only-of-type {\n",
       "        vertical-align: middle;\n",
       "    }\n",
       "\n",
       "    .dataframe tbody tr th {\n",
       "        vertical-align: top;\n",
       "    }\n",
       "\n",
       "    .dataframe thead th {\n",
       "        text-align: right;\n",
       "    }\n",
       "</style>\n",
       "<table border=\"1\" class=\"dataframe\">\n",
       "  <thead>\n",
       "    <tr style=\"text-align: right;\">\n",
       "      <th></th>\n",
       "      <th>Date</th>\n",
       "      <th>High</th>\n",
       "      <th>Low</th>\n",
       "      <th>Overall</th>\n",
       "      <th>Wind</th>\n",
       "      <th>Rain</th>\n",
       "    </tr>\n",
       "  </thead>\n",
       "  <tbody>\n",
       "    <tr>\n",
       "      <th>0</th>\n",
       "      <td>Sat 17</td>\n",
       "      <td>65°</td>\n",
       "      <td>53°</td>\n",
       "      <td>Showers</td>\n",
       "      <td>SW 6 mph</td>\n",
       "      <td>77%</td>\n",
       "    </tr>\n",
       "    <tr>\n",
       "      <th>1</th>\n",
       "      <td>Sun 18</td>\n",
       "      <td>68°</td>\n",
       "      <td>58°</td>\n",
       "      <td>Partly Cloudy</td>\n",
       "      <td>E 14 mph</td>\n",
       "      <td>14%</td>\n",
       "    </tr>\n",
       "    <tr>\n",
       "      <th>2</th>\n",
       "      <td>Mon 19</td>\n",
       "      <td>69°</td>\n",
       "      <td>57°</td>\n",
       "      <td>Partly Cloudy</td>\n",
       "      <td>E 11 mph</td>\n",
       "      <td>14%</td>\n",
       "    </tr>\n",
       "    <tr>\n",
       "      <th>3</th>\n",
       "      <td>Tue 20</td>\n",
       "      <td>70°</td>\n",
       "      <td>59°</td>\n",
       "      <td>PM Showers</td>\n",
       "      <td>SE 8 mph</td>\n",
       "      <td>12%</td>\n",
       "    </tr>\n",
       "    <tr>\n",
       "      <th>4</th>\n",
       "      <td>Wed 21</td>\n",
       "      <td>67°</td>\n",
       "      <td>55°</td>\n",
       "      <td>AM Showers</td>\n",
       "      <td>SW 6 mph</td>\n",
       "      <td>12%</td>\n",
       "    </tr>\n",
       "    <tr>\n",
       "      <th>5</th>\n",
       "      <td>Thu 22</td>\n",
       "      <td>66°</td>\n",
       "      <td>54°</td>\n",
       "      <td>AM Fog/PM Sun</td>\n",
       "      <td>NNE 5 mph</td>\n",
       "      <td>12%</td>\n",
       "    </tr>\n",
       "    <tr>\n",
       "      <th>6</th>\n",
       "      <td>Fri 23</td>\n",
       "      <td>66°</td>\n",
       "      <td>54°</td>\n",
       "      <td>Sunny</td>\n",
       "      <td>S 5 mph</td>\n",
       "      <td>40%</td>\n",
       "    </tr>\n",
       "    <tr>\n",
       "      <th>7</th>\n",
       "      <td>Sat 24</td>\n",
       "      <td>66°</td>\n",
       "      <td>55°</td>\n",
       "      <td>Partly Cloudy</td>\n",
       "      <td>S 6 mph</td>\n",
       "      <td>77%</td>\n",
       "    </tr>\n",
       "    <tr>\n",
       "      <th>8</th>\n",
       "      <td>Sun 25</td>\n",
       "      <td>67°</td>\n",
       "      <td>56°</td>\n",
       "      <td>Partly Cloudy</td>\n",
       "      <td>SE 9 mph</td>\n",
       "      <td>47%</td>\n",
       "    </tr>\n",
       "    <tr>\n",
       "      <th>9</th>\n",
       "      <td>Mon 26</td>\n",
       "      <td>65°</td>\n",
       "      <td>57°</td>\n",
       "      <td>Showers</td>\n",
       "      <td>SE 13 mph</td>\n",
       "      <td>15%</td>\n",
       "    </tr>\n",
       "  </tbody>\n",
       "</table>\n",
       "</div>"
      ],
      "text/plain": [
       "     Date High  Low        Overall       Wind Rain\n",
       "0  Sat 17  65°  53°        Showers   SW 6 mph  77%\n",
       "1  Sun 18  68°  58°  Partly Cloudy   E 14 mph  14%\n",
       "2  Mon 19  69°  57°  Partly Cloudy   E 11 mph  14%\n",
       "3  Tue 20  70°  59°     PM Showers   SE 8 mph  12%\n",
       "4  Wed 21  67°  55°     AM Showers   SW 6 mph  12%\n",
       "5  Thu 22  66°  54°  AM Fog/PM Sun  NNE 5 mph  12%\n",
       "6  Fri 23  66°  54°          Sunny    S 5 mph  40%\n",
       "7  Sat 24  66°  55°  Partly Cloudy    S 6 mph  77%\n",
       "8  Sun 25  67°  56°  Partly Cloudy   SE 9 mph  47%\n",
       "9  Mon 26  65°  57°        Showers  SE 13 mph  15%"
      ]
     },
     "execution_count": 65,
     "metadata": {},
     "output_type": "execute_result"
    }
   ],
   "source": [
    "import pandas as pd\n",
    "data_T = pd.DataFrame(array_t, columns=[\"Date\",\"High\",\"Low\",\"Overall\",\"Wind\",\"Rain\"])\n",
    "data_T"
   ]
  },
  {
   "cell_type": "code",
   "execution_count": 66,
   "id": "918c86d2",
   "metadata": {},
   "outputs": [],
   "source": [
    "def convert(s):\n",
    "    strin = \"\"\n",
    "    return(strin.join(s)) #used to transform list of letters to word\n",
    "def percoff(Rain):\n",
    "    for i in range(10):\n",
    "        Rain[i] = list(Rain[i])[0:-1]\n",
    "        Rain[i] = convert(Rain[i])\n",
    "        Rain[i] = int(Rain[i])\n",
    "    return Rain\n",
    "#used to take off the % from the rain data and keep the int only\n"
   ]
  },
  {
   "cell_type": "code",
   "execution_count": 67,
   "id": "f25ae264",
   "metadata": {},
   "outputs": [],
   "source": [
    "import matplotlib.pyplot as plt\n",
    "\n",
    "Rain_B = data_B[\"Rain\"]\n",
    "Rain_T = data_T[\"Rain\"]\n",
    "\n",
    "RB = percoff(Rain_B)\n",
    "RT = percoff(Rain_T)\n",
    "#filtering rain data and taking off the percentage"
   ]
  },
  {
   "cell_type": "code",
   "execution_count": 68,
   "id": "c884418c",
   "metadata": {},
   "outputs": [
    {
     "data": {
      "text/plain": [
       "0    15\n",
       "1    15\n",
       "2    15\n",
       "3     8\n",
       "4     8\n",
       "5     7\n",
       "6     7\n",
       "7     7\n",
       "8     7\n",
       "9    10\n",
       "Name: Rain, dtype: object"
      ]
     },
     "execution_count": 68,
     "metadata": {},
     "output_type": "execute_result"
    }
   ],
   "source": [
    "RB"
   ]
  },
  {
   "cell_type": "code",
   "execution_count": 69,
   "id": "68645aa3",
   "metadata": {},
   "outputs": [
    {
     "data": {
      "text/plain": [
       "0    77\n",
       "1    14\n",
       "2    14\n",
       "3    12\n",
       "4    12\n",
       "5    12\n",
       "6    40\n",
       "7    77\n",
       "8    47\n",
       "9    15\n",
       "Name: Rain, dtype: object"
      ]
     },
     "execution_count": 69,
     "metadata": {},
     "output_type": "execute_result"
    }
   ],
   "source": [
    "RT"
   ]
  },
  {
   "cell_type": "code",
   "execution_count": 70,
   "id": "0b5fbed0",
   "metadata": {},
   "outputs": [
    {
     "data": {
      "image/png": "[encoded data removed]",
      "text/plain": [
       "<Figure size 640x480 with 1 Axes>"
      ]
     },
     "metadata": {},
     "output_type": "display_data"
    }
   ],
   "source": [
    "\n",
    "plt.plot(data_B[\"Date\"],RB,marker = 'o',c='r',label=\"Bengrir\")\n",
    "plt.plot(data_T[\"Date\"],RT,marker = 'o',c='b',label=\"Tangier\")\n",
    "plt.ylabel(\"Rain percentage\")\n",
    "plt.xlabel(\"Days\")\n",
    "plt.legend()\n",
    "plt.show()\n",
    "#bengrir plot in red compared to tangier plot in blue, tangier is more rainy than bengrir "
   ]
  },
  {
   "cell_type": "code",
   "execution_count": 55,
   "id": "47c5c877",
   "metadata": {},
   "outputs": [],
   "source": [
    "# THE END !"
   ]
  }
 ],
 "metadata": {
  "kernelspec": {
   "display_name": "Python 3 (ipykernel)",
   "language": "python",
   "name": "python3"
  },
  "language_info": {
   "codemirror_mode": {
    "name": "ipython",
    "version": 3
   },
   "file_extension": ".py",
   "mimetype": "text/x-python",
   "name": "python",
   "nbconvert_exporter": "python",
   "pygments_lexer": "ipython3",
   "version": "3.10.8"
  }
 },
 "nbformat": 4,
 "nbformat_minor": 5
}
